{
 "cells": [
  {
   "cell_type": "markdown",
   "id": "2a422ff9",
   "metadata": {},
   "source": [
    "# Exploring financial_news.db\n",
    "Run the text_processing_example.py first"
   ]
  },
  {
   "cell_type": "code",
   "execution_count": null,
   "id": "ebddc41d",
   "metadata": {},
   "outputs": [],
   "source": [
    "import sqlite3\n",
    "import pandas as pd\n",
    "\n",
    "# Connect to the database\n",
    "conn = sqlite3.connect('../financial_news.db')\n",
    "\n",
    "# Get list of tables\n",
    "tables = pd.read_sql(\"SELECT name FROM sqlite_master WHERE type='table';\", conn)\n",
    "print(\"Tables in the database:\")\n",
    "display(tables)\n",
    "\n",
    "# Close connection\n",
    "conn.close()"
   ]
  },
  {
   "cell_type": "code",
   "execution_count": null,
   "id": "5e4cb689",
   "metadata": {},
   "outputs": [],
   "source": [
    "import sqlite3\n",
    "import pandas as pd\n",
    "\n",
    "# Connect to the database\n",
    "conn = sqlite3.connect('../financial_news.db')\n",
    "\n",
    "# Get list of tables\n",
    "tables = pd.read_sql(\"SELECT name FROM sqlite_master WHERE type='table';\", conn)\n",
    "\n",
    "# Explore articles table\n",
    "if not tables.empty:\n",
    "    print(f\"\\nFirst 5 rows of table 'articles':\")\n",
    "    df = pd.read_sql(f\"SELECT * FROM articles LIMIT 5;\", conn)\n",
    "    display(df)\n",
    "    \n",
    "    # Get schema information\n",
    "    print(f\"\\nSchema of table 'articles':\")\n",
    "    schema = pd.read_sql(f\"PRAGMA table_info(articles);\", conn)\n",
    "    display(schema)\n",
    "    \n",
    "    # Get row count\n",
    "    count = pd.read_sql(f\"SELECT COUNT(*) as row_count FROM articles;\", conn)\n",
    "    print(f\"\\nRow count for table 'articles':\")\n",
    "    display(count)\n",
    "\n",
    "# Close connection\n",
    "conn.close()"
   ]
  },
  {
   "cell_type": "code",
   "execution_count": null,
   "id": "9697ff44",
   "metadata": {},
   "outputs": [],
   "source": [
    "import sqlite3\n",
    "import pandas as pd\n",
    "\n",
    "# Connect to the database\n",
    "conn = sqlite3.connect('../financial_news.db')\n",
    "\n",
    "# Get list of tables\n",
    "tables = pd.read_sql(\"SELECT name FROM sqlite_master WHERE type='table';\", conn)\n",
    "\n",
    "# Explore api_call_log table\n",
    "if not tables.empty:\n",
    "    print(f\"\\nFirst 5 rows of table 'api_call_log':\")\n",
    "    df = pd.read_sql(f\"SELECT * FROM api_call_log LIMIT 5;\", conn)\n",
    "    display(df)\n",
    "    \n",
    "    # Get schema information\n",
    "    print(f\"\\nSchema of table 'api_call_log':\")\n",
    "    schema = pd.read_sql(f\"PRAGMA table_info(api_call_log);\", conn)\n",
    "    display(schema)\n",
    "    \n",
    "    # Get row count\n",
    "    count = pd.read_sql(f\"SELECT COUNT(*) as row_count FROM api_call_log;\", conn)\n",
    "    print(f\"\\nRow count for table 'api_call_log':\")\n",
    "    display(count)\n",
    "\n",
    "# Close connection\n",
    "conn.close()"
   ]
  }
 ],
 "metadata": {
  "kernelspec": {
   "display_name": "venv",
   "language": "python",
   "name": "python3"
  },
  "language_info": {
   "codemirror_mode": {
    "name": "ipython",
    "version": 3
   },
   "file_extension": ".py",
   "mimetype": "text/x-python",
   "name": "python",
   "nbconvert_exporter": "python",
   "pygments_lexer": "ipython3",
   "version": "3.12.10"
  }
 },
 "nbformat": 4,
 "nbformat_minor": 5
}
