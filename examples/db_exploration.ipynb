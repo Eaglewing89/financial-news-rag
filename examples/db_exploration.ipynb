{
 "cells": [
  {
   "cell_type": "markdown",
   "id": "2a422ff9",
   "metadata": {},
   "source": [
    "# Exploring financial_news.db\n",
    "Run the text_processing_example.py first"
   ]
  },
  {
   "cell_type": "code",
   "execution_count": null,
   "id": "ebddc41d",
   "metadata": {},
   "outputs": [],
   "source": [
    "import sqlite3\n",
    "import pandas as pd\n",
    "\n",
    "# Connect to the database\n",
    "conn = sqlite3.connect('../financial_news.db')\n",
    "\n",
    "# Get list of tables\n",
    "tables = pd.read_sql(\"SELECT name FROM sqlite_master WHERE type='table';\", conn)\n",
    "print(\"Tables in the database:\")\n",
    "display(tables)\n",
    "\n",
    "# Explore a specific table (replace 'your_table_name' with actual table name)\n",
    "if not tables.empty:\n",
    "    table_name = tables['name'].iloc[1]  # Get first table name\n",
    "    print(f\"\\nFirst 5 rows of table '{table_name}':\")\n",
    "    df = pd.read_sql(f\"SELECT * FROM {table_name} LIMIT 22;\", conn)\n",
    "    display(df)\n",
    "    \n",
    "    # Get schema information\n",
    "    print(f\"\\nSchema of table '{table_name}':\")\n",
    "    schema = pd.read_sql(f\"PRAGMA table_info({table_name});\", conn)\n",
    "    display(schema)\n",
    "    \n",
    "    # Get row count\n",
    "    count = pd.read_sql(f\"SELECT COUNT(*) as row_count FROM {table_name};\", conn)\n",
    "    print(f\"\\nRow count for table '{table_name}':\")\n",
    "    display(count)\n",
    "\n",
    "# Close connection\n",
    "conn.close()"
   ]
  }
 ],
 "metadata": {
  "kernelspec": {
   "display_name": "venv",
   "language": "python",
   "name": "python3"
  },
  "language_info": {
   "codemirror_mode": {
    "name": "ipython",
    "version": 3
   },
   "file_extension": ".py",
   "mimetype": "text/x-python",
   "name": "python",
   "nbconvert_exporter": "python",
   "pygments_lexer": "ipython3",
   "version": "3.12.10"
  }
 },
 "nbformat": 4,
 "nbformat_minor": 5
}
