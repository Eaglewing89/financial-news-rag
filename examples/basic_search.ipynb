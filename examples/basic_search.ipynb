{
 "cells": [
  {
   "cell_type": "code",
   "execution_count": null,
   "id": "058dbf13",
   "metadata": {},
   "outputs": [],
   "source": [
    "# Import required libraries\n",
    "import os\n",
    "from datetime import datetime, timedelta\n",
    "\n",
    "# Import the financial_news_rag module\n",
    "from financial_news_rag.marketaux import MarketauxNewsFetcher\n",
    "from financial_news_rag.data import fetch_financial_news, search_entities\n",
    "\n",
    "# Optional: Configure logging to see more details\n",
    "import logging\n",
    "logging.basicConfig(level=logging.INFO)"
   ]
  },
  {
   "cell_type": "markdown",
   "id": "a9b79366",
   "metadata": {},
   "source": [
    "# Marketaux Financial News API Demo\n",
    "\n",
    "This notebook demonstrates how to use the Financial News RAG module to fetch financial news articles from the Marketaux API.\n",
    "\n",
    "The examples show different ways to filter and search for news by:\n",
    "- Company symbols\n",
    "- Sentiment\n",
    "- Date ranges\n",
    "- Search terms\n",
    "- Entity types"
   ]
  },
  {
   "cell_type": "markdown",
   "id": "229306cc",
   "metadata": {},
   "source": [
    "## Basic News Fetching\n",
    "\n",
    "Let's start by fetching some recent news articles for specific companies:"
   ]
  },
  {
   "cell_type": "code",
   "execution_count": null,
   "id": "69c19327",
   "metadata": {},
   "outputs": [],
   "source": [
    "# Fetch news for Tesla and Apple\n",
    "result = fetch_financial_news(\n",
    "    symbols=['TSLA', 'AAPL'],  # Tesla and Apple\n",
    "    days_back=7,               # Last 7 days\n",
    "    language=['en'],           # English only\n",
    "    filter_entities=True       # Only return relevant entities\n",
    ")\n",
    "\n",
    "# Display the number of articles found\n",
    "print(f\"Found {result['meta']['found']} articles, returning {result['meta']['returned']}\")\n",
    "\n",
    "# Display the first article\n",
    "if result['data']:\n",
    "    article = result['data'][0]\n",
    "    print(f\"\\nTitle: {article['title']}\")\n",
    "    print(f\"Source: {article['source']}\")\n",
    "    print(f\"Published: {article['published_at']}\")\n",
    "    print(f\"URL: {article['url']}\")\n",
    "    print(f\"\\nSnippet: {article['snippet']}\")\n",
    "    \n",
    "    # Show entities\n",
    "    if article.get('entities'):\n",
    "        print(\"\\nEntities:\")\n",
    "        for entity in article['entities']:\n",
    "            sentiment = entity.get('sentiment_score', 0)\n",
    "            sentiment_str = \"positive\" if sentiment > 0.1 else \"negative\" if sentiment < -0.1 else \"neutral\"\n",
    "            print(f\"  - {entity['symbol']}: {entity.get('name', '')} ({sentiment_str}, score: {sentiment})\")\n",
    "else:\n",
    "    print(\"No articles found\")\n"
   ]
  },
  {
   "cell_type": "markdown",
   "id": "2c1d25b1",
   "metadata": {},
   "source": [
    "## Filtering by Sentiment\n",
    "\n",
    "We can filter articles by sentiment score to find positive or negative news:"
   ]
  },
  {
   "cell_type": "code",
   "execution_count": null,
   "id": "922ef4b4",
   "metadata": {},
   "outputs": [],
   "source": [
    "# Fetch positive news (sentiment >= 0.2)\n",
    "positive_news = fetch_financial_news(\n",
    "    symbols=['MSFT', 'AMZN'],   # Microsoft and Amazon\n",
    "    sentiment_gte=0.2,          # Positive sentiment threshold\n",
    "    days_back=7,               # Last 7 days\n",
    "    language=['en']            # English only\n",
    ")\n",
    "\n",
    "print(f\"Found {positive_news['meta']['found']} positive articles\")\n",
    "\n",
    "# Fetch negative news (sentiment <= -0.2)\n",
    "negative_news = fetch_financial_news(\n",
    "    symbols=['MSFT', 'AMZN'],   # Microsoft and Amazon\n",
    "    sentiment_lte=-0.2,         # Negative sentiment threshold\n",
    "    days_back=7,               # Last 7 days\n",
    "    language=['en']            # English only\n",
    ")\n",
    "\n",
    "print(f\"Found {negative_news['meta']['found']} negative articles\")\n",
    "\n",
    "# Show article headlines with sentiment\n",
    "def show_articles_with_sentiment(articles, title):\n",
    "    if not articles['data']:\n",
    "        print(f\"No {title} articles found\")\n",
    "        return\n",
    "        \n",
    "    print(f\"\\n{title} headlines:\")\n",
    "    for i, article in enumerate(articles['data'], 1):\n",
    "        # Find the overall sentiment for this article by averaging entity sentiments\n",
    "        sentiments = [e.get('sentiment_score', 0) for e in article.get('entities', [])]\n",
    "        avg_sentiment = sum(sentiments) / len(sentiments) if sentiments else 0\n",
    "        sentiment_str = f\"({avg_sentiment:.2f})\"\n",
    "        \n",
    "        print(f\"{i}. {article['title']} {sentiment_str}\")\n",
    "\n",
    "show_articles_with_sentiment(positive_news, \"Positive\")\n",
    "show_articles_with_sentiment(negative_news, \"Negative\")"
   ]
  },
  {
   "cell_type": "markdown",
   "id": "d298eb81",
   "metadata": {},
   "source": [
    "## Filtering by Date Range\n",
    "\n",
    "We can specify exact date ranges for our news search:"
   ]
  },
  {
   "cell_type": "code",
   "execution_count": null,
   "id": "d57b4951",
   "metadata": {},
   "outputs": [],
   "source": [
    "# Define date range (May 1-7, 2025)\n",
    "start_date = datetime(2025, 5, 1)\n",
    "end_date = datetime(2025, 5, 7)\n",
    "\n",
    "# Fetch news for a specific date range\n",
    "date_filtered_news = fetch_financial_news(\n",
    "    symbols=['NVDA'],             # Nvidia\n",
    "    date_range=(start_date, end_date),\n",
    "    language=['en'],              # English only\n",
    "    filter_entities=True          # Only return relevant entities\n",
    ")\n",
    "\n",
    "print(f\"Found {date_filtered_news['meta']['found']} articles between {start_date.date()} and {end_date.date()}\")\n",
    "\n",
    "# Show headlines with dates\n",
    "if date_filtered_news['data']:\n",
    "    print(\"\\nHeadlines:\")\n",
    "    for i, article in enumerate(date_filtered_news['data'], 1):\n",
    "        # Parse the published date\n",
    "        published_at = article['published_at']\n",
    "        if isinstance(published_at, str):\n",
    "            # Convert ISO format string to datetime\n",
    "            published_at = published_at.replace('Z', '+00:00')\n",
    "            published_at = datetime.fromisoformat(published_at)\n",
    "        \n",
    "        # Format date for display\n",
    "        date_str = published_at.strftime(\"%Y-%m-%d %H:%M\")\n",
    "        print(f\"{i}. [{date_str}] {article['title']}\")\n",
    "else:\n",
    "    print(\"No articles found in this date range\")"
   ]
  },
  {
   "cell_type": "markdown",
   "id": "4cd4272c",
   "metadata": {},
   "source": [
    "## Text Search\n",
    "\n",
    "We can search for specific terms or phrases in the news articles:"
   ]
  },
  {
   "cell_type": "code",
   "execution_count": null,
   "id": "ae3a7df5",
   "metadata": {},
   "outputs": [],
   "source": [
    "# Search for specific terms\n",
    "search_results = fetch_financial_news(\n",
    "    search=\"AI earnings\",       # Search for AI-related earnings news\n",
    "    days_back=7,               # Last 7 days\n",
    "    language=['en'],           # English only\n",
    "    filter_entities=True       # Only return relevant entities\n",
    ")\n",
    "\n",
    "print(f\"Found {search_results['meta']['found']} articles matching 'AI earnings'\")\n",
    "\n",
    "# Show search results with relevance scores\n",
    "if search_results['data']:\n",
    "    print(\"\\nSearch results:\")\n",
    "    for i, article in enumerate(search_results['data'], 1):\n",
    "        relevance = article.get('relevance_score', 'N/A')\n",
    "        print(f\"{i}. {article['title']} (Relevance: {relevance})\")\n",
    "        \n",
    "        # List entities in this article\n",
    "        entities = article.get('entities', [])\n",
    "        if entities:\n",
    "            print(\"   Entities:\")\n",
    "            for entity in entities:\n",
    "                print(f\"    - {entity.get('symbol', 'N/A')}: {entity.get('name', 'Unknown')}\")\n",
    "        print()  # Add blank line between articles\n",
    "else:\n",
    "    print(\"No articles found matching the search terms\")"
   ]
  },
  {
   "cell_type": "markdown",
   "id": "99704e9b",
   "metadata": {},
   "source": [
    "## Searching for Entities\n",
    "\n",
    "We can also search for entity information directly:"
   ]
  },
  {
   "cell_type": "code",
   "execution_count": null,
   "id": "a426cb17",
   "metadata": {},
   "outputs": [],
   "source": [
    "# Search for AI-related companies\n",
    "entity_results = search_entities(\n",
    "    search=\"AI\",                # Search term\n",
    "    entity_types=[\"equity\"],    # Only stocks\n",
    "    countries=[\"us\"]           # US companies only\n",
    ")\n",
    "\n",
    "print(f\"Found {entity_results['meta']['found']} entities matching 'AI'\")\n",
    "\n",
    "# Display entity information\n",
    "if entity_results['data']:\n",
    "    print(\"\\nEntities:\")\n",
    "    for i, entity in enumerate(entity_results['data'], 1):\n",
    "        print(f\"{i}. {entity.get('symbol', 'N/A')}: {entity.get('name', 'Unknown')}\")\n",
    "        print(f\"   Type: {entity.get('type', 'N/A')}\")\n",
    "        print(f\"   Industry: {entity.get('industry', 'N/A')}\")\n",
    "        print(f\"   Country: {entity.get('country', 'N/A')}\")\n",
    "        print()\n",
    "else:\n",
    "    print(\"No entities found matching the search terms\")"
   ]
  },
  {
   "cell_type": "markdown",
   "id": "0f70ed66",
   "metadata": {},
   "source": [
    "## Conclusion\n",
    "\n",
    "In this notebook, we've demonstrated several ways to fetch and filter financial news articles using the Marketaux API integration:\n",
    "\n",
    "1. Basic news fetching for specific companies\n",
    "2. Filtering by sentiment (positive/negative)\n",
    "3. Filtering by date range\n",
    "4. Text search for specific terms\n",
    "5. Entity information search\n",
    "\n",
    "These capabilities can be combined to create powerful financial news applications, sentiment analysis tools, and more."
   ]
  }
 ],
 "metadata": {
  "language_info": {
   "name": "python"
  }
 },
 "nbformat": 4,
 "nbformat_minor": 5
}
