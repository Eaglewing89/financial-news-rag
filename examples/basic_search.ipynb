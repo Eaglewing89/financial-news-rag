{
 "cells": [
  {
   "cell_type": "code",
   "execution_count": null,
   "id": "a9b79366",
   "metadata": {},
   "outputs": [],
   "source": [
    "# examples/basic_search.ipynb"
   ]
  }
 ],
 "metadata": {
  "language_info": {
   "name": "python"
  }
 },
 "nbformat": 4,
 "nbformat_minor": 5
}
